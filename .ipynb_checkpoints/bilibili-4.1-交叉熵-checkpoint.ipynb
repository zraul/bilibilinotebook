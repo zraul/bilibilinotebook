{
 "cells": [
  {
   "cell_type": "code",
   "execution_count": null,
   "metadata": {},
   "outputs": [
    {
     "name": "stdout",
     "output_type": "stream",
     "text": [
      "Extracting MNIST_data/train-images-idx3-ubyte.gz\n",
      "Extracting MNIST_data/train-labels-idx1-ubyte.gz\n",
      "Extracting MNIST_data/t10k-images-idx3-ubyte.gz\n",
      "Extracting MNIST_data/t10k-labels-idx1-ubyte.gz\n",
      "Iter 0,Testing Accuracy 0.9068\n",
      "Iter 1,Testing Accuracy 0.9144\n",
      "Iter 2,Testing Accuracy 0.919\n",
      "Iter 3,Testing Accuracy 0.9216\n",
      "Iter 4,Testing Accuracy 0.922\n",
      "Iter 5,Testing Accuracy 0.9223\n",
      "Iter 6,Testing Accuracy 0.9246\n"
     ]
    }
   ],
   "source": [
    "import tensorflow as tf\n",
    "from tensorflow.examples.tutorials.mnist import input_data\n",
    "\n",
    "# 载入数据集\n",
    "mnist = input_data.read_data_sets('MNIST_data', one_hot=True)\n",
    "\n",
    "# 定义每个批次大小\n",
    "batch_size = 20\n",
    "# 计算一共有多少个批次\n",
    "n_batch = mnist.train.num_examples // batch_size\n",
    "\n",
    "# 定义两个placeholder\n",
    "x = tf.placeholder(tf.float32, [None, 784])\n",
    "y = tf.placeholder(tf.float32, [None, 10])\n",
    "\n",
    "# 创建一个简单的神经网络\n",
    "W = tf.Variable(tf.zeros([784, 10]))\n",
    "b = tf.Variable(tf.zeros([10]))\n",
    "prediction = tf.nn.softmax(tf.matmul(x, W) + b)\n",
    "\n",
    "# 交叉熵\n",
    "loss = tf.reduce_mean(tf.nn.softmax_cross_entropy_with_logits_v2(labels=y, logits=prediction))\n",
    "\n",
    "# 使用梯度下降法\n",
    "train_step = tf.train.GradientDescentOptimizer(0.2).minimize(loss)\n",
    "\n",
    "# 初始化变量\n",
    "init = tf.global_variables_initializer()\n",
    "\n",
    "# 结果存放在布尔型列表中\n",
    "correct_prediction = tf.equal(tf.argmax(y, 1), tf.argmax(prediction, 1))\n",
    "# 求准确率\n",
    "accuracy = tf.reduce_mean(tf.cast(correct_prediction, tf.float32))\n",
    "\n",
    "\n",
    "with tf.Session() as sess:\n",
    "    sess.run(init)\n",
    "    for epoch in range(21):\n",
    "        for batch in range(n_batch):\n",
    "            batch_xs,batch_ys = mnist.train.next_batch(batch_size)\n",
    "            sess.run(train_step, feed_dict={x:batch_xs, y:batch_ys})\n",
    "        \n",
    "        acc = sess.run(accuracy, feed_dict={x:mnist.test.images, y:mnist.test.labels})\n",
    "        print('Iter ' + str(epoch) + ',Testing Accuracy ' + str(acc))"
   ]
  },
  {
   "cell_type": "code",
   "execution_count": null,
   "metadata": {},
   "outputs": [],
   "source": [
    "# 二次代价函数收敛结果\n",
    "Iter 0,Testing Accuracy 0.8919\n",
    "Iter 1,Testing Accuracy 0.9042\n",
    "Iter 2,Testing Accuracy 0.9104\n",
    "Iter 3,Testing Accuracy 0.913\n",
    "Iter 4,Testing Accuracy 0.9165\n",
    "Iter 5,Testing Accuracy 0.9171\n",
    "Iter 6,Testing Accuracy 0.9187\n",
    "Iter 7,Testing Accuracy 0.9192\n",
    "Iter 8,Testing Accuracy 0.92\n",
    "Iter 9,Testing Accuracy 0.9216\n",
    "Iter 10,Testing Accuracy 0.9219\n",
    "Iter 11,Testing Accuracy 0.9223\n",
    "Iter 12,Testing Accuracy 0.9233\n",
    "Iter 13,Testing Accuracy 0.9229\n",
    "Iter 14,Testing Accuracy 0.924\n",
    "Iter 15,Testing Accuracy 0.9247\n",
    "Iter 16,Testing Accuracy 0.9243\n",
    "Iter 17,Testing Accuracy 0.9245\n",
    "Iter 18,Testing Accuracy 0.9253\n",
    "Iter 19,Testing Accuracy 0.9259\n",
    "Iter 20,Testing Accuracy 0.9261"
   ]
  }
 ],
 "metadata": {
  "kernelspec": {
   "display_name": "Python 2",
   "language": "python",
   "name": "python2"
  },
  "language_info": {
   "codemirror_mode": {
    "name": "ipython",
    "version": 2
   },
   "file_extension": ".py",
   "mimetype": "text/x-python",
   "name": "python",
   "nbconvert_exporter": "python",
   "pygments_lexer": "ipython2",
   "version": "2.7.10"
  }
 },
 "nbformat": 4,
 "nbformat_minor": 2
}
