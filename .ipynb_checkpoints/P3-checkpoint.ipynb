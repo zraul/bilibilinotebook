{
 "cells": [
  {
   "cell_type": "code",
   "execution_count": 9,
   "metadata": {},
   "outputs": [],
   "source": [
    "import tensorflow as tf\n",
    "sess = tf.Session()\n",
    "a = tf.constant(5, name='input_a')\n",
    "b = tf.constant(3, name='input_b')\n",
    "c = tf.multiply(a, b, name='mul_c')\n",
    "d = tf.add(a, b, name='add_d')\n",
    "e = tf.add(c, d, name='add_e')\n",
    "val = sess.run(e)\n",
    "# 保存训练路径\n",
    "writer = tf.summary.FileWriter('./my_graph', sess.graph)\n",
    "# 显式关闭，释放内存\n",
    "writer.close()\n",
    "sess.close()"
   ]
  },
  {
   "cell_type": "code",
   "execution_count": 20,
   "metadata": {},
   "outputs": [
    {
     "name": "stdout",
     "output_type": "stream",
     "text": [
      "24\n"
     ]
    }
   ],
   "source": [
    "import tensorflow as tf\n",
    "sess = tf.Session()\n",
    "a = tf.constant([5, 3], name='input_a')\n",
    "b = tf.reduce_prod(a, name='prob_b')\n",
    "c = tf.reduce_sum(a, name='sum_c')\n",
    "d = tf.add(c, d, name='add_d')\n",
    "print sess.run(d)"
   ]
  },
  {
   "cell_type": "code",
   "execution_count": 22,
   "metadata": {},
   "outputs": [],
   "source": [
    "import tensorflow as tf\n",
    "import numpy as np\n",
    "\n",
    "a = np.array([2, 3], dtype=np.int32)\n",
    "b = np.array([4, 5], dtype=np.int32)\n",
    "c= tf.add(a, b)"
   ]
  },
  {
   "cell_type": "code",
   "execution_count": 1,
   "metadata": {},
   "outputs": [
    {
     "ename": "AttributeError",
     "evalue": "'module' object has no attribute 'mu'",
     "output_type": "error",
     "traceback": [
      "\u001b[0;31m---------------------------------------------------------------------------\u001b[0m",
      "\u001b[0;31mAttributeError\u001b[0m                            Traceback (most recent call last)",
      "\u001b[0;32m<ipython-input-1-602522782b27>\u001b[0m in \u001b[0;36m<module>\u001b[0;34m()\u001b[0m\n\u001b[1;32m      2\u001b[0m \u001b[0;34m\u001b[0m\u001b[0m\n\u001b[1;32m      3\u001b[0m \u001b[0;31m# 默认数据流图\u001b[0m\u001b[0;34m\u001b[0m\u001b[0;34m\u001b[0m\u001b[0m\n\u001b[0;32m----> 4\u001b[0;31m \u001b[0min_default_graph\u001b[0m \u001b[0;34m=\u001b[0m \u001b[0mtf\u001b[0m\u001b[0;34m.\u001b[0m\u001b[0mmu\u001b[0m\u001b[0;34m(\u001b[0m\u001b[0;36m2\u001b[0m\u001b[0;34m,\u001b[0m \u001b[0;36m3\u001b[0m\u001b[0;34m)\u001b[0m\u001b[0;34m\u001b[0m\u001b[0m\n\u001b[0m\u001b[1;32m      5\u001b[0m \u001b[0;34m\u001b[0m\u001b[0m\n\u001b[1;32m      6\u001b[0m \u001b[0;31m# 创建新数据流图\u001b[0m\u001b[0;34m\u001b[0m\u001b[0;34m\u001b[0m\u001b[0m\n",
      "\u001b[0;31mAttributeError\u001b[0m: 'module' object has no attribute 'mu'"
     ]
    }
   ],
   "source": [
    "import tensorflow as tf\n",
    "\n",
    "# 默认数据流图\n",
    "in_default_graph = tf.mu(2, 3)\n",
    "\n",
    "# 创建新数据流图\n",
    "g = tf.Graph()\n",
    "\n",
    "with g.as_default():\n",
    "    in_graph_g = tf.multiply(2, 3)\n",
    "    \n",
    "also_in_default_graph = tf.substr(5, 1)"
   ]
  },
  {
   "cell_type": "code",
   "execution_count": 3,
   "metadata": {},
   "outputs": [],
   "source": [
    "import tensorflow as tf\n",
    "\n",
    "a = tf.add(2, 5)\n",
    "b = tf.multiply(a, 3)\n",
    "\n",
    "sess = tf.Session()\n",
    "replace_dict = {a:15}\n",
    "sess.run(b, feed_dict=replace_dict)\n",
    "sess.close()"
   ]
  },
  {
   "cell_type": "code",
   "execution_count": 5,
   "metadata": {},
   "outputs": [
    {
     "data": {
      "text/plain": [
       "23"
      ]
     },
     "execution_count": 5,
     "metadata": {},
     "output_type": "execute_result"
    }
   ],
   "source": [
    "# feed_input参数使用\n",
    "import tensorflow as tf\n",
    "import numpy as np\n",
    "\n",
    "a = tf.placeholder(tf.int32, shape=[2], name='my_input')\n",
    "b = tf.reduce_prod(a, name='prod_b')\n",
    "c = tf.reduce_sum(a, name='sum_c')\n",
    "\n",
    "d = tf.add(b, c, name='add_d')\n",
    "sess = tf.Session()\n",
    "input_dict = {a: np.array([5, 3], dtype=np.int32)}\n",
    "sess.run(d, feed_dict=input_dict)"
   ]
  },
  {
   "cell_type": "code",
   "execution_count": 9,
   "metadata": {},
   "outputs": [
    {
     "data": {
      "text/plain": [
       "2"
      ]
     },
     "execution_count": 9,
     "metadata": {},
     "output_type": "execute_result"
    }
   ],
   "source": [
    "# variables使用\n",
    "import tensorflow as tf\n",
    "my_var = tf.Variable(3, name=\"my_variable\")\n",
    "\n",
    "add = tf.add(5, my_var)\n",
    "mul = tf.multiply(8, my_var)\n",
    "\n",
    "zeros = tf.zeros([2, 2])\n",
    "ones = tf.ones([6])\n",
    "# 0~10的均匀分布3*3*3张量\n",
    "uniform = tf.random_uniform([3, 3, 3], minval=0, maxval=10)\n",
    "# 3*3*3的张量，元素服从0均值、标准差为2的正态分布\n",
    "normal = tf.random_normal([3, 3, 3],mean=0.0, stddev=2.0)\n",
    "# 不会返回任务小于3.0大于7.0的值\n",
    "trunc = tf.truncated_normal([2, 2], mean=0.5, stddev=1.0)\n",
    "random_var = tf.Variable(tf.truncated_normal([2, 2]))\n",
    "\n",
    "# 修改variables值\n",
    "my_var = tf.Variable(1)\n",
    "my_var_times_two = my_var.assign(my_var * 2)\n",
    "init = tf.global_variables_initializer()\n",
    "sess.run(init)\n",
    "sess.run(my_var_times_two)"
   ]
  },
  {
   "cell_type": "code",
   "execution_count": 3,
   "metadata": {},
   "outputs": [],
   "source": [
    "import tensorflow as tf\n",
    "\n",
    "graph = tf.Graph()\n",
    "with graph.as_default():\n",
    "    with tf.name_scope('variables'):\n",
    "        global_step = tf.Variable(0, dtype=tf.int32, trainable=False, name='global_step')\n",
    "        total_output = tf.Variable(0.0, dtype=tf.float32, trainable=False, name='total_output')\n",
    "    \n",
    "    with tf.name_scope('transformation'):\n",
    "        # 独立输入层\n",
    "        with tf.name_scope('input'):\n",
    "            a = tf.placeholder(tf.float32, shape=[None], name='input_placeholder_a')\n",
    "        \n",
    "        # 独立中间层\n",
    "        with tf.name_scope('intermediate_layer'):\n",
    "            b = tf.reduce_prod(a, name='product_b')\n",
    "            c = tf.reduce_sum(a, name='sum_c')\n",
    "        \n",
    "        # 独立输出层\n",
    "        with tf.name_scope('output'):\n",
    "            output = tf.add(b, c, name='output')\n",
    "    \n",
    "    with tf.name_scope('update'):\n",
    "        # 用最新的输出更新Variable\n",
    "        update_total = total_output.assign_add(output)\n",
    "        increment_step = global_step.assign_add(1)\n",
    "    \n",
    "    with tf.name_scope('summarier'):\n",
    "        avg = tf.div(update_total, tf.cast(increment_step, tf.float32), name='average')\n",
    "        \n",
    "        # 为输出节点创建汇总数据\n",
    "        tf.summary.scalar('Output', output)\n",
    "        tf.summary.scalar('Sum', update_total)\n",
    "        tf.summary.scalar('Average', avg)\n",
    "    \n",
    "    with tf.name_scope('global_ops'):\n",
    "        init = tf.global_variables_initializer()\n",
    "        merged_summeries = tf.summary.merge_all()\n",
    "        \n",
    "def run_graph(input_tensor):\n",
    "    feed_dict = {a: input_tensor}\n",
    "    _, step, summary = sess.run([output, increment_step, merged_summeries], feed_dict=feed_dict)\n",
    "    writer.add_summary(summary, global_step=step)\n",
    "        \n",
    "sess = tf.Session(graph=graph)\n",
    "writer = tf.summary.FileWriter('./my_graph', graph)\n",
    "sess.run(init)\n",
    "run_graph([2,8])\n",
    "run_graph([3,1,3,3])\n",
    "run_graph([11,4])\n",
    "writer.flush()\n",
    "writer.close()\n",
    "sess.close()\n",
    "\n"
   ]
  },
  {
   "cell_type": "code",
   "execution_count": null,
   "metadata": {},
   "outputs": [],
   "source": []
  }
 ],
 "metadata": {
  "kernelspec": {
   "display_name": "Python 2",
   "language": "python",
   "name": "python2"
  },
  "language_info": {
   "codemirror_mode": {
    "name": "ipython",
    "version": 2
   },
   "file_extension": ".py",
   "mimetype": "text/x-python",
   "name": "python",
   "nbconvert_exporter": "python",
   "pygments_lexer": "ipython2",
   "version": "2.7.10"
  }
 },
 "nbformat": 4,
 "nbformat_minor": 2
}
